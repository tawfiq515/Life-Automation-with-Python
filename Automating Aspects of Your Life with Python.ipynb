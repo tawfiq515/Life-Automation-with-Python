{
 "cells": [
  {
   "cell_type": "code",
   "execution_count": null,
   "metadata": {},
   "outputs": [],
   "source": [
    "pip install selenium schedule pandas\n"
   ]
  },
  {
   "cell_type": "code",
   "execution_count": null,
   "metadata": {},
   "outputs": [],
   "source": [
    "import smtplib\n",
    "import schedule\n",
    "import time\n",
    "\n",
    "email_address = \"your_email@gmail.com\"\n",
    "email_password = \"your_password\"\n",
    "\n",
    "def send_email(subject, body):\n",
    "    try:\n",
    "        with smtplib.SMTP('smtp.gmail.com', 587) as server:\n",
    "            server.starttls()\n",
    "            server.login(email_address, email_password)\n",
    "            message = f'Subject: {subject}\\n\\n{body}'\n",
    "            server.sendmail(email_address, email_address, message)\n",
    "        print(\"Email sent!\")\n",
    "    except Exception as e:\n",
    "        print(f\"Error: {e}\")\n",
    "\n",
    "def send_reminder():\n",
    "    send_email(\"Reminder\", \"Hey! Don’t forget to check your emails today.\")\n",
    "\n",
    "schedule.every().day.at(\"09:00\").do(send_reminder)  \n",
    "\n",
    "while True:\n",
    "    schedule.run_pending()\n",
    "    time.sleep(60)  "
   ]
  },
  {
   "cell_type": "code",
   "execution_count": null,
   "metadata": {},
   "outputs": [],
   "source": [
    "from selenium import webdriver\n",
    "from selenium.webdriver.common.by import By\n",
    "import time\n",
    "\n",
    "def check_task_status():\n",
    "    driver = webdriver.Chrome(executable_path=\"/path/to/chromedriver\")\n",
    "    driver.get(\"https://your-task-tracker.com\")\n",
    "    time.sleep(2)\n",
    "    \n",
    "    task_status = driver.find_element(By.ID, \"task-status\").text  # Replace with actual ID\n",
    "    if \"Overdue\" in task_status:\n",
    "        send_email(\"Task Overdue\", \"Your task is overdue, please check it.\")\n",
    "\n",
    "    driver.quit()\n",
    "\n",
    "schedule.every().hour.do(check_task_status)\n"
   ]
  }
 ],
 "metadata": {
  "kernelspec": {
   "display_name": "Python 3",
   "language": "python",
   "name": "python3"
  },
  "language_info": {
   "codemirror_mode": {
    "name": "ipython",
    "version": 3
   },
   "file_extension": ".py",
   "mimetype": "text/x-python",
   "name": "python",
   "nbconvert_exporter": "python",
   "pygments_lexer": "ipython3",
   "version": "3.12.10"
  }
 },
 "nbformat": 4,
 "nbformat_minor": 2
}
